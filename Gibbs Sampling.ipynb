{
 "cells": [
  {
   "cell_type": "code",
   "execution_count": 1,
   "metadata": {
    "collapsed": true
   },
   "outputs": [],
   "source": [
    "import random"
   ]
  },
  {
   "cell_type": "code",
   "execution_count": 6,
   "metadata": {},
   "outputs": [
    {
     "data": {
      "text/plain": [
       "(6, 11)"
      ]
     },
     "execution_count": 6,
     "metadata": {},
     "output_type": "execute_result"
    }
   ],
   "source": [
    "def roll_a_die():\n",
    "    return random.choice(range(1,7))\n",
    "\n",
    "def direct_sample():\n",
    "    d1 = roll_a_die()\n",
    "    d2 = roll_a_die()\n",
    "    return d1, d1+d2\n",
    "\n",
    "direct_sample()"
   ]
  },
  {
   "cell_type": "code",
   "execution_count": 29,
   "metadata": {},
   "outputs": [
    {
     "data": {
      "text/plain": [
       "3.5099999999999998"
      ]
     },
     "execution_count": 29,
     "metadata": {},
     "output_type": "execute_result"
    }
   ],
   "source": [
    "import numpy as np\n",
    "N = 10000\n",
    "\n",
    "history = np.zeros(N)\n",
    "for i in range(N):\n",
    "    history[i] = roll_a_die()\n",
    "round(np.mean(history),2)"
   ]
  },
  {
   "cell_type": "code",
   "execution_count": 30,
   "metadata": {
    "collapsed": true
   },
   "outputs": [],
   "source": [
    "?random.randrange"
   ]
  },
  {
   "cell_type": "code",
   "execution_count": 31,
   "metadata": {
    "collapsed": true
   },
   "outputs": [],
   "source": [
    "def random_y_given_x(x):\n",
    "    # x값을 알고 있다는 전제 하에 y값이 선택될 확률\n",
    "    # y는 x+1, x+2, x+3, x+4, x+5, x+6 가운데 하나\n",
    "    return x + roll_a_die()\n",
    "\n",
    "def random_x_given_y(y):\n",
    "    # y값을 알고 있다는 전제 하에 x값이 선택될 확률\n",
    "    # 첫째 둘째 주사위의 합이 7 이하라면\n",
    "    if y <= 7:\n",
    "        return random.randrange(1,y)\n",
    "    else:\n",
    "        return random.randrange(y-6,7)"
   ]
  },
  {
   "cell_type": "code",
   "execution_count": 32,
   "metadata": {
    "collapsed": true
   },
   "outputs": [],
   "source": [
    "def gibbs_sample(num_iters=100):\n",
    "    x, y = 1, 2\n",
    "    for _ in range(num_iters):\n",
    "        x = random_x_given_y(y)\n",
    "        y = random_y_given_x(x)\n",
    "        print(x, y)\n",
    "    return x, y"
   ]
  },
  {
   "cell_type": "code",
   "execution_count": null,
   "metadata": {
    "collapsed": true
   },
   "outputs": [],
   "source": []
  },
  {
   "cell_type": "code",
   "execution_count": 34,
   "metadata": {},
   "outputs": [
    {
     "name": "stdout",
     "output_type": "stream",
     "text": [
      "1 3\n",
      "2 5\n",
      "2 8\n",
      "3 8\n",
      "2 8\n",
      "2 5\n",
      "4 8\n",
      "3 6\n",
      "2 7\n",
      "2 8\n",
      "3 4\n",
      "3 8\n",
      "4 10\n",
      "6 12\n",
      "6 8\n",
      "3 6\n",
      "4 8\n",
      "6 8\n",
      "2 4\n",
      "2 6\n",
      "1 2\n",
      "1 5\n",
      "2 4\n",
      "2 3\n",
      "1 2\n",
      "1 6\n",
      "2 7\n",
      "6 11\n",
      "6 9\n",
      "4 8\n",
      "5 8\n",
      "3 8\n",
      "2 6\n",
      "3 9\n",
      "3 6\n",
      "1 3\n",
      "2 5\n",
      "1 4\n",
      "2 7\n",
      "2 6\n",
      "4 8\n",
      "2 7\n",
      "3 5\n",
      "4 9\n",
      "6 9\n",
      "6 8\n",
      "2 7\n",
      "1 2\n",
      "1 4\n",
      "1 6\n",
      "5 6\n",
      "5 11\n",
      "6 11\n",
      "5 9\n",
      "5 11\n",
      "5 7\n",
      "6 7\n",
      "4 8\n",
      "2 7\n",
      "2 7\n",
      "1 4\n",
      "2 7\n",
      "5 11\n",
      "6 7\n",
      "4 6\n",
      "1 7\n",
      "3 9\n",
      "5 11\n",
      "5 6\n",
      "2 6\n",
      "5 11\n",
      "5 8\n",
      "6 8\n",
      "3 8\n",
      "3 8\n",
      "4 8\n",
      "3 7\n",
      "2 5\n",
      "1 7\n",
      "2 5\n",
      "2 8\n",
      "6 10\n",
      "5 7\n",
      "2 8\n",
      "4 8\n",
      "3 9\n",
      "4 7\n",
      "4 10\n",
      "4 7\n",
      "1 2\n",
      "1 6\n",
      "3 8\n",
      "4 9\n",
      "6 12\n",
      "6 7\n",
      "3 6\n",
      "2 7\n",
      "2 5\n",
      "1 5\n",
      "4 10\n"
     ]
    },
    {
     "data": {
      "text/plain": [
       "(4, 10)"
      ]
     },
     "execution_count": 34,
     "metadata": {},
     "output_type": "execute_result"
    }
   ],
   "source": [
    "gibbs_sample()"
   ]
  },
  {
   "cell_type": "code",
   "execution_count": null,
   "metadata": {
    "collapsed": true
   },
   "outputs": [],
   "source": []
  }
 ],
 "metadata": {
  "kernelspec": {
   "display_name": "Python 3",
   "language": "python",
   "name": "python3"
  },
  "language_info": {
   "codemirror_mode": {
    "name": "ipython",
    "version": 3
   },
   "file_extension": ".py",
   "mimetype": "text/x-python",
   "name": "python",
   "nbconvert_exporter": "python",
   "pygments_lexer": "ipython3",
   "version": "3.6.3"
  }
 },
 "nbformat": 4,
 "nbformat_minor": 2
}
